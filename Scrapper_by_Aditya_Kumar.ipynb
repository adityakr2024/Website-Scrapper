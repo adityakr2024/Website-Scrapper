{
  "nbformat": 4,
  "nbformat_minor": 0,
  "metadata": {
    "colab": {
      "provenance": []
    },
    "kernelspec": {
      "name": "python3",
      "display_name": "Python 3"
    },
    "language_info": {
      "name": "python"
    }
  },
  "cells": [
    {
      "cell_type": "code",
      "execution_count": 1,
      "metadata": {
        "id": "xdPRd01_MDrQ"
      },
      "outputs": [],
      "source": [
        "import requests\n",
        "from bs4 import BeautifulSoup"
      ]
    },
    {
      "cell_type": "code",
      "source": [
        "url = 'www.wikipedia.com'"
      ],
      "metadata": {
        "id": "kOUxXYHKNowa"
      },
      "execution_count": null,
      "outputs": []
    },
    {
      "cell_type": "code",
      "source": [
        "response = requests.get(url)"
      ],
      "metadata": {
        "id": "F7QYCBp6OFz0"
      },
      "execution_count": null,
      "outputs": []
    },
    {
      "cell_type": "code",
      "source": [
        "response"
      ],
      "metadata": {
        "id": "DMhwEGNEOI5z"
      },
      "execution_count": null,
      "outputs": []
    },
    {
      "cell_type": "code",
      "source": [
        "html_content = response.content"
      ],
      "metadata": {
        "id": "xZgetw_sOY9Z"
      },
      "execution_count": null,
      "outputs": []
    },
    {
      "cell_type": "code",
      "source": [
        "html_content"
      ],
      "metadata": {
        "id": "nt7ljpEgO9Wk"
      },
      "execution_count": null,
      "outputs": []
    },
    {
      "cell_type": "code",
      "source": [
        "print(html_content)"
      ],
      "metadata": {
        "id": "Tbn53uLZPI6U"
      },
      "execution_count": null,
      "outputs": []
    },
    {
      "cell_type": "code",
      "source": [
        "soup = BeautifulSoup(html_content, \"html.parser\")"
      ],
      "metadata": {
        "id": "TVo20zC9PWXR"
      },
      "execution_count": null,
      "outputs": []
    },
    {
      "cell_type": "code",
      "source": [
        "prettify_html_content = soup.prettify()"
      ],
      "metadata": {
        "id": "YaXFfHOWQI7x"
      },
      "execution_count": null,
      "outputs": []
    },
    {
      "cell_type": "code",
      "source": [
        "print(prettify_html_content)"
      ],
      "metadata": {
        "id": "xP4qea1XQo9N"
      },
      "execution_count": null,
      "outputs": []
    },
    {
      "cell_type": "code",
      "source": [
        "quotes = soup.find_all('span', class_='text')"
      ],
      "metadata": {
        "id": "UHVx8_irQtR1"
      },
      "execution_count": null,
      "outputs": []
    },
    {
      "cell_type": "code",
      "source": [
        "authors = soup.find_all(\"small\", class_=\"author\")"
      ],
      "metadata": {
        "id": "-yiXTaHwSSJ3"
      },
      "execution_count": null,
      "outputs": []
    },
    {
      "cell_type": "code",
      "source": [
        "print(quotes)"
      ],
      "metadata": {
        "id": "9YszCVn9SwZz"
      },
      "execution_count": null,
      "outputs": []
    },
    {
      "cell_type": "code",
      "source": [
        "print(authors)"
      ],
      "metadata": {
        "id": "rlTNqfZ9SyiL"
      },
      "execution_count": null,
      "outputs": []
    },
    {
      "cell_type": "code",
      "source": [
        "for quote in quotes:\n",
        "    print(quote.text)"
      ],
      "metadata": {
        "id": "U4DU3cCiS7Np"
      },
      "execution_count": null,
      "outputs": []
    },
    {
      "cell_type": "code",
      "source": [
        "#save quote.text in download\n",
        "\n",
        "from google.colab import files\n",
        "\n",
        "with open('quotes.txt', 'w') as f:\n",
        "  for quote in quotes:\n",
        "    f.write(quote.text + '\\n')\n",
        "\n",
        "files.download('quotes.txt')\n"
      ],
      "metadata": {
        "id": "OYEJY6AqUAWH"
      },
      "execution_count": null,
      "outputs": []
    },
    {
      "cell_type": "code",
      "source": [
        "# save authors.txt in download\n",
        "for author in authors:\n",
        "  print(author.text)"
      ],
      "metadata": {
        "id": "VfoUGyZBXkdU"
      },
      "execution_count": null,
      "outputs": []
    },
    {
      "cell_type": "code",
      "source": [
        "with open('authors.txt', 'w') as f:\n",
        "  for author in authors:\n",
        "    f.write(author.text + '\\n')\n",
        "\n",
        "files.download('authors.txt')"
      ],
      "metadata": {
        "colab": {
          "base_uri": "https://localhost:8080/",
          "height": 17
        },
        "id": "4TPU25g_ZEzX",
        "outputId": "ad78dc96-3e08-4d33-e55f-8813899f098e"
      },
      "execution_count": null,
      "outputs": [
        {
          "output_type": "display_data",
          "data": {
            "text/plain": [
              "<IPython.core.display.Javascript object>"
            ],
            "application/javascript": [
              "\n",
              "    async function download(id, filename, size) {\n",
              "      if (!google.colab.kernel.accessAllowed) {\n",
              "        return;\n",
              "      }\n",
              "      const div = document.createElement('div');\n",
              "      const label = document.createElement('label');\n",
              "      label.textContent = `Downloading \"${filename}\": `;\n",
              "      div.appendChild(label);\n",
              "      const progress = document.createElement('progress');\n",
              "      progress.max = size;\n",
              "      div.appendChild(progress);\n",
              "      document.body.appendChild(div);\n",
              "\n",
              "      const buffers = [];\n",
              "      let downloaded = 0;\n",
              "\n",
              "      const channel = await google.colab.kernel.comms.open(id);\n",
              "      // Send a message to notify the kernel that we're ready.\n",
              "      channel.send({})\n",
              "\n",
              "      for await (const message of channel.messages) {\n",
              "        // Send a message to notify the kernel that we're ready.\n",
              "        channel.send({})\n",
              "        if (message.buffers) {\n",
              "          for (const buffer of message.buffers) {\n",
              "            buffers.push(buffer);\n",
              "            downloaded += buffer.byteLength;\n",
              "            progress.value = downloaded;\n",
              "          }\n",
              "        }\n",
              "      }\n",
              "      const blob = new Blob(buffers, {type: 'application/binary'});\n",
              "      const a = document.createElement('a');\n",
              "      a.href = window.URL.createObjectURL(blob);\n",
              "      a.download = filename;\n",
              "      div.appendChild(a);\n",
              "      a.click();\n",
              "      div.remove();\n",
              "    }\n",
              "  "
            ]
          },
          "metadata": {}
        },
        {
          "output_type": "display_data",
          "data": {
            "text/plain": [
              "<IPython.core.display.Javascript object>"
            ],
            "application/javascript": [
              "download(\"download_579699cc-8b5e-4250-abf6-e8ef378799f0\", \"authors.txt\", 148)"
            ]
          },
          "metadata": {}
        }
      ]
    },
    {
      "cell_type": "code",
      "source": [
        "for i in range(len(quotes)):\n",
        "    print(f\"Quote: {quotes[i].text}\")\n",
        "    print(f\"Author: {authors[i].text}\\n\")"
      ],
      "metadata": {
        "id": "-6EP4QAfZOLC"
      },
      "execution_count": null,
      "outputs": []
    },
    {
      "cell_type": "code",
      "source": [
        "with open('quotes_and_authors.txt', 'w') as f:\n",
        "  for i in range(len(quotes)):\n",
        "    quote = quotes[i].text\n",
        "    author = authors[i].text\n",
        "    f.write(f\"Quote: {quote}\\nAuthor: {author}\\n\\n\")\n",
        "\n",
        "files.download('quotes_and_authors.txt')\n"
      ],
      "metadata": {
        "id": "-Kbz_1n5dwde"
      },
      "execution_count": null,
      "outputs": []
    },
    {
      "cell_type": "code",
      "source": [
        "\n",
        "with open('quotes_and_authors_numbered.txt', 'w') as f:\n",
        "  f.write(\"Quotes and Authors\\n\\n\")\n",
        "  for i in range(len(quotes)):\n",
        "    f.write(f\"Quote {i+1}: {quotes[i].text}\\n\")\n",
        "    f.write(f\"Author: {authors[i].text}\\n\\n\")\n",
        "  f.write(f\"\\nTotal number of quotes: {len(quotes)}\")\n",
        "  f.write(f\"\\nTotal number of authors: {len(authors)}\")\n",
        "\n",
        "files.download('quotes_and_authors_numbered.txt')\n"
      ],
      "metadata": {
        "colab": {
          "base_uri": "https://localhost:8080/",
          "height": 17
        },
        "id": "_dP2PCWScvXY",
        "outputId": "89af9239-a8fd-4bbf-8d87-a6a063af8b1e"
      },
      "execution_count": null,
      "outputs": [
        {
          "output_type": "display_data",
          "data": {
            "text/plain": [
              "<IPython.core.display.Javascript object>"
            ],
            "application/javascript": [
              "\n",
              "    async function download(id, filename, size) {\n",
              "      if (!google.colab.kernel.accessAllowed) {\n",
              "        return;\n",
              "      }\n",
              "      const div = document.createElement('div');\n",
              "      const label = document.createElement('label');\n",
              "      label.textContent = `Downloading \"${filename}\": `;\n",
              "      div.appendChild(label);\n",
              "      const progress = document.createElement('progress');\n",
              "      progress.max = size;\n",
              "      div.appendChild(progress);\n",
              "      document.body.appendChild(div);\n",
              "\n",
              "      const buffers = [];\n",
              "      let downloaded = 0;\n",
              "\n",
              "      const channel = await google.colab.kernel.comms.open(id);\n",
              "      // Send a message to notify the kernel that we're ready.\n",
              "      channel.send({})\n",
              "\n",
              "      for await (const message of channel.messages) {\n",
              "        // Send a message to notify the kernel that we're ready.\n",
              "        channel.send({})\n",
              "        if (message.buffers) {\n",
              "          for (const buffer of message.buffers) {\n",
              "            buffers.push(buffer);\n",
              "            downloaded += buffer.byteLength;\n",
              "            progress.value = downloaded;\n",
              "          }\n",
              "        }\n",
              "      }\n",
              "      const blob = new Blob(buffers, {type: 'application/binary'});\n",
              "      const a = document.createElement('a');\n",
              "      a.href = window.URL.createObjectURL(blob);\n",
              "      a.download = filename;\n",
              "      div.appendChild(a);\n",
              "      a.click();\n",
              "      div.remove();\n",
              "    }\n",
              "  "
            ]
          },
          "metadata": {}
        },
        {
          "output_type": "display_data",
          "data": {
            "text/plain": [
              "<IPython.core.display.Javascript object>"
            ],
            "application/javascript": [
              "download(\"download_1548d786-ae1b-4346-be79-ce4094cf09a4\", \"quotes_and_authors_numbered.txt\", 1349)"
            ]
          },
          "metadata": {}
        }
      ]
    }
  ]
}